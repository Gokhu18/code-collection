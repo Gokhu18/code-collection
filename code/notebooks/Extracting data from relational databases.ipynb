{
 "cells": [
  {
   "cell_type": "markdown",
   "metadata": {},
   "source": [
    "# Extracting data from relational databases"
   ]
  },
  {
   "cell_type": "markdown",
   "metadata": {},
   "source": [
    "## SQLite Database"
   ]
  },
  {
   "cell_type": "code",
   "execution_count": 2,
   "metadata": {},
   "outputs": [],
   "source": [
    "import sqlite3"
   ]
  },
  {
   "cell_type": "markdown",
   "metadata": {},
   "source": [
    "#### Creating database objects"
   ]
  },
  {
   "cell_type": "code",
   "execution_count": 29,
   "metadata": {},
   "outputs": [],
   "source": [
    "# creates connection to db / create db if no connection available\n",
    "connection = sqlite3.connect(\"playerDB.db\")\n",
    "\n",
    "# define/create cursor\n",
    "cursor = connection.cursor()\n",
    "\n",
    "# creating a table\n",
    "create_table = \"\"\"\n",
    "                create table player(\n",
    "                    player_id    INT    PK,\n",
    "                    first_name   VARCHAR(30),\n",
    "                    surname      VARCHAR(50),\n",
    "                    sex          CHAR(1),\n",
    "                    weight       DEC(11,2),\n",
    "                    height       INT\n",
    "                );\"\"\"\n",
    "\n",
    "# execute query\n",
    "cursor.execute(create_table)\n",
    "\n",
    "# commit change\n",
    "connection.commit()\n",
    "\n",
    "# close connection\n",
    "connection.close()"
   ]
  },
  {
   "cell_type": "markdown",
   "metadata": {},
   "source": [
    "#### Inserting data"
   ]
  },
  {
   "cell_type": "code",
   "execution_count": 30,
   "metadata": {},
   "outputs": [],
   "source": [
    "# sample data\n",
    "classroom_data = [(1, \"Steven\", \"Karmaniolos\", \"M\", 70.2, 183),\n",
    "                  (2, \"Keiran\", \"O'Connell\", \"M\", 60.5, 174)]\n",
    "\n",
    "# open connection\n",
    "connection = sqlite3.connect(\"playerDB.db\")\n",
    "\n",
    "# open cursor\n",
    "cursor = connection.cursor()\n",
    "\n",
    "# insert each student record\n",
    "for student in classroom_data:\n",
    "    insert_statement = \"\"\"insert into player (player_id, first_name, surname, sex, weight, height)\n",
    "                          values ({0},\"{1}\",\"{2}\",\"{3}\",{4},{5});\"\"\".format(student[0], student[1], student[2], \n",
    "                                                                            student[3], student[4], student[5])\n",
    "    cursor.execute(insert_statement)\n",
    "\n",
    "# commit changes\n",
    "connection.commit()\n",
    "\n",
    "# close connection\n",
    "connection.close()"
   ]
  },
  {
   "cell_type": "markdown",
   "metadata": {},
   "source": [
    "#### Query data"
   ]
  },
  {
   "cell_type": "code",
   "execution_count": 32,
   "metadata": {},
   "outputs": [
    {
     "name": "stdout",
     "output_type": "stream",
     "text": [
      "(1, 'Steven', 'Karmaniolos', 'M', 70.2, 183)\n",
      "(2, 'Keiran', \"O'Connell\", 'M', 60.5, 174)\n"
     ]
    }
   ],
   "source": [
    "# open connection\n",
    "connection = sqlite3.connect(\"playerDB.db\")\n",
    "\n",
    "# open cursor\n",
    "cursor = connection.cursor()\n",
    "\n",
    "# query\n",
    "query = \"select * from player\"\n",
    "\n",
    "# exec query\n",
    "cursor.execute(query)\n",
    "\n",
    "# fetch results\n",
    "result = cursor.fetchall()\n",
    "\n",
    "# print results\n",
    "for row in result:\n",
    "    print(row)\n",
    "    \n",
    "# close connection\n",
    "connection.close()"
   ]
  }
 ],
 "metadata": {
  "kernelspec": {
   "display_name": "Python 3",
   "language": "python",
   "name": "python3"
  },
  "language_info": {
   "codemirror_mode": {
    "name": "ipython",
    "version": 3
   },
   "file_extension": ".py",
   "mimetype": "text/x-python",
   "name": "python",
   "nbconvert_exporter": "python",
   "pygments_lexer": "ipython3",
   "version": "3.7.3"
  }
 },
 "nbformat": 4,
 "nbformat_minor": 2
}
